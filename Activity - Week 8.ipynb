{
 "cells": [
  {
   "cell_type": "markdown",
   "id": "b986c2a3",
   "metadata": {},
   "source": [
    "### Loading the Required Libraries into the Environment"
   ]
  },
  {
   "cell_type": "code",
   "execution_count": 1,
   "id": "9378687e",
   "metadata": {},
   "outputs": [],
   "source": [
    "import numpy as np\n",
    "import pandas as pd\n",
    "import matplotlib.pyplot as plt\n",
    "import seaborn as sns\n",
    "\n",
    "import scipy.stats as stats\n",
    "from scipy.stats import ttest_ind"
   ]
  },
  {
   "cell_type": "markdown",
   "id": "d839a754",
   "metadata": {},
   "source": [
    "Loading the Dataset :"
   ]
  },
  {
   "cell_type": "code",
   "execution_count": 2,
   "id": "f8f1ae9e",
   "metadata": {},
   "outputs": [
    {
     "data": {
      "text/html": [
       "<div>\n",
       "<style scoped>\n",
       "    .dataframe tbody tr th:only-of-type {\n",
       "        vertical-align: middle;\n",
       "    }\n",
       "\n",
       "    .dataframe tbody tr th {\n",
       "        vertical-align: top;\n",
       "    }\n",
       "\n",
       "    .dataframe thead th {\n",
       "        text-align: right;\n",
       "    }\n",
       "</style>\n",
       "<table border=\"1\" class=\"dataframe\">\n",
       "  <thead>\n",
       "    <tr style=\"text-align: right;\">\n",
       "      <th></th>\n",
       "      <th>Gender</th>\n",
       "      <th>Test preparation</th>\n",
       "      <th>Total Marks</th>\n",
       "    </tr>\n",
       "  </thead>\n",
       "  <tbody>\n",
       "    <tr>\n",
       "      <th>0</th>\n",
       "      <td>male</td>\n",
       "      <td>none</td>\n",
       "      <td>14</td>\n",
       "    </tr>\n",
       "    <tr>\n",
       "      <th>1</th>\n",
       "      <td>female</td>\n",
       "      <td>none</td>\n",
       "      <td>28</td>\n",
       "    </tr>\n",
       "    <tr>\n",
       "      <th>2</th>\n",
       "      <td>female</td>\n",
       "      <td>none</td>\n",
       "      <td>18</td>\n",
       "    </tr>\n",
       "    <tr>\n",
       "      <th>3</th>\n",
       "      <td>female</td>\n",
       "      <td>none</td>\n",
       "      <td>48</td>\n",
       "    </tr>\n",
       "    <tr>\n",
       "      <th>4</th>\n",
       "      <td>female</td>\n",
       "      <td>none</td>\n",
       "      <td>21</td>\n",
       "    </tr>\n",
       "  </tbody>\n",
       "</table>\n",
       "</div>"
      ],
      "text/plain": [
       "   Gender Test preparation  Total Marks\n",
       "0    male             none           14\n",
       "1  female             none           28\n",
       "2  female             none           18\n",
       "3  female             none           48\n",
       "4  female             none           21"
      ]
     },
     "execution_count": 2,
     "metadata": {},
     "output_type": "execute_result"
    }
   ],
   "source": [
    "df = pd.read_csv(\"Week_8_Q&A_dataset - Sheet1.csv\")\n",
    "df.head()"
   ]
  },
  {
   "cell_type": "markdown",
   "id": "17cd16df",
   "metadata": {},
   "source": [
    "Checking for some `basic info` & `Null values` in Data set: "
   ]
  },
  {
   "cell_type": "code",
   "execution_count": 3,
   "id": "c24bc238",
   "metadata": {},
   "outputs": [
    {
     "name": "stdout",
     "output_type": "stream",
     "text": [
      "<class 'pandas.core.frame.DataFrame'>\n",
      "RangeIndex: 28 entries, 0 to 27\n",
      "Data columns (total 3 columns):\n",
      " #   Column            Non-Null Count  Dtype \n",
      "---  ------            --------------  ----- \n",
      " 0   Gender            28 non-null     object\n",
      " 1   Test preparation  28 non-null     object\n",
      " 2   Total Marks       28 non-null     int64 \n",
      "dtypes: int64(1), object(2)\n",
      "memory usage: 800.0+ bytes\n"
     ]
    }
   ],
   "source": [
    "df.info()"
   ]
  },
  {
   "cell_type": "code",
   "execution_count": 4,
   "id": "eda33a5d",
   "metadata": {},
   "outputs": [
    {
     "data": {
      "text/plain": [
       "Gender              0\n",
       "Test preparation    0\n",
       "Total Marks         0\n",
       "dtype: int64"
      ]
     },
     "execution_count": 4,
     "metadata": {},
     "output_type": "execute_result"
    }
   ],
   "source": [
    "df.isnull().sum()"
   ]
  },
  {
   "cell_type": "code",
   "execution_count": 5,
   "id": "a0e0dfff",
   "metadata": {},
   "outputs": [],
   "source": [
    "plt.style.use(\"seaborn-dark\")"
   ]
  },
  {
   "cell_type": "markdown",
   "id": "0e9517b8",
   "metadata": {},
   "source": [
    "> We conclude that there are `NO` Null Values in our Dataset"
   ]
  },
  {
   "cell_type": "markdown",
   "id": "ee021b34",
   "metadata": {},
   "source": [
    "# Carrying out descriptive analytics on the dataset."
   ]
  },
  {
   "cell_type": "code",
   "execution_count": 6,
   "id": "7da95a5d",
   "metadata": {},
   "outputs": [
    {
     "data": {
      "text/html": [
       "<div>\n",
       "<style scoped>\n",
       "    .dataframe tbody tr th:only-of-type {\n",
       "        vertical-align: middle;\n",
       "    }\n",
       "\n",
       "    .dataframe tbody tr th {\n",
       "        vertical-align: top;\n",
       "    }\n",
       "\n",
       "    .dataframe thead th {\n",
       "        text-align: right;\n",
       "    }\n",
       "</style>\n",
       "<table border=\"1\" class=\"dataframe\">\n",
       "  <thead>\n",
       "    <tr style=\"text-align: right;\">\n",
       "      <th></th>\n",
       "      <th>Total Marks</th>\n",
       "    </tr>\n",
       "  </thead>\n",
       "  <tbody>\n",
       "    <tr>\n",
       "      <th>count</th>\n",
       "      <td>28.000000</td>\n",
       "    </tr>\n",
       "    <tr>\n",
       "      <th>mean</th>\n",
       "      <td>32.321429</td>\n",
       "    </tr>\n",
       "    <tr>\n",
       "      <th>std</th>\n",
       "      <td>12.454520</td>\n",
       "    </tr>\n",
       "    <tr>\n",
       "      <th>min</th>\n",
       "      <td>12.000000</td>\n",
       "    </tr>\n",
       "    <tr>\n",
       "      <th>25%</th>\n",
       "      <td>22.500000</td>\n",
       "    </tr>\n",
       "    <tr>\n",
       "      <th>50%</th>\n",
       "      <td>33.000000</td>\n",
       "    </tr>\n",
       "    <tr>\n",
       "      <th>75%</th>\n",
       "      <td>43.250000</td>\n",
       "    </tr>\n",
       "    <tr>\n",
       "      <th>max</th>\n",
       "      <td>50.000000</td>\n",
       "    </tr>\n",
       "  </tbody>\n",
       "</table>\n",
       "</div>"
      ],
      "text/plain": [
       "       Total Marks\n",
       "count    28.000000\n",
       "mean     32.321429\n",
       "std      12.454520\n",
       "min      12.000000\n",
       "25%      22.500000\n",
       "50%      33.000000\n",
       "75%      43.250000\n",
       "max      50.000000"
      ]
     },
     "execution_count": 6,
     "metadata": {},
     "output_type": "execute_result"
    }
   ],
   "source": [
    "df.describe()"
   ]
  },
  {
   "cell_type": "code",
   "execution_count": 7,
   "id": "952236e9",
   "metadata": {},
   "outputs": [
    {
     "data": {
      "text/plain": [
       "female    16\n",
       "male      12\n",
       "Name: Gender, dtype: int64"
      ]
     },
     "execution_count": 7,
     "metadata": {},
     "output_type": "execute_result"
    }
   ],
   "source": [
    "gender_count = df[\"Gender\"].value_counts()\n",
    "gender_count"
   ]
  },
  {
   "cell_type": "code",
   "execution_count": 8,
   "id": "632c9a3a",
   "metadata": {},
   "outputs": [
    {
     "data": {
      "text/plain": [
       "Test preparation  Gender\n",
       "none              female    12\n",
       "                  male       9\n",
       "completed         female     4\n",
       "                  male       3\n",
       "dtype: int64"
      ]
     },
     "execution_count": 8,
     "metadata": {},
     "output_type": "execute_result"
    }
   ],
   "source": [
    "df1 =  df[[\"Test preparation\",\"Gender\"]].value_counts()\n",
    "df1"
   ]
  },
  {
   "cell_type": "code",
   "execution_count": 9,
   "id": "6d57aeed",
   "metadata": {},
   "outputs": [
    {
     "data": {
      "text/plain": [
       "none         21\n",
       "completed     7\n",
       "Name: Test preparation, dtype: int64"
      ]
     },
     "execution_count": 9,
     "metadata": {},
     "output_type": "execute_result"
    }
   ],
   "source": [
    "df2 = df[\"Test preparation\"].value_counts()\n",
    "df2"
   ]
  },
  {
   "cell_type": "markdown",
   "id": "26239963",
   "metadata": {},
   "source": [
    "**Plotting the Charts for Visual representation :**"
   ]
  },
  {
   "cell_type": "code",
   "execution_count": 10,
   "id": "697ea223",
   "metadata": {},
   "outputs": [
    {
     "data": {
      "image/png": "[encoded data removed]",
      "text/plain": [
       "<Figure size 1440x1584 with 4 Axes>"
      ]
     },
     "metadata": {},
     "output_type": "display_data"
    }
   ],
   "source": [
    "fig, ((ax0,ax1),(ax2,ax3)) = plt.subplots(nrows=2, ncols=2, figsize = (20,22))\n",
    "\n",
    "# creating labels for pie chart\n",
    "labels = 'None', 'Completed'\n",
    "sizes = [21,7]\n",
    "\n",
    "# Plotting and customizing our axes\n",
    "\n",
    "gender = sns.countplot(data=df, x = \"Gender\", ax = ax0 )\n",
    "gender.set_title(\"Count of Males vs Females\", fontsize = 15, pad = 20 )\n",
    "gender.set_xlabel(\"Gender\", fontsize = 13)\n",
    "gender.set_ylabel(\"Count\", fontsize = 13)\n",
    "gender.tick_params(axis='both', which='major', labelsize=12)\n",
    "gender.grid()\n",
    "\n",
    "\n",
    "ax1.pie(sizes,labels=labels,autopct='%1.1f%%', explode = (0,0.1),shadow=True, startangle=90)\n",
    "ax1.axis('equal');\n",
    "ax1.set_title(\"Overall Test Preperation Status\",fontsize = 15, pad = 21 )\n",
    "\n",
    "df[[\"Test preparation\",\"Gender\"]].value_counts().plot(kind='bar', color = 'plum',rot = 0, ax = ax2)\n",
    "ax2.set_title(\"Count of Various Students based on Test preparation\", fontsize=14, pad=10)\n",
    "ax2.set_xlabel(\"Test  Preparation Status , Gender of student\",fontsize = 13, labelpad= 15)\n",
    "ax2.set_ylabel(\"Count\", fontsize= 13)\n",
    "plt.tick_params(axis='both', which='major', labelsize=12)\n",
    "\n",
    "\n",
    "sns.boxplot(y = \"Total Marks\", x = \"Test preparation\", data = df, ax = ax3)\n",
    "ax3.set_title(\"Test Preperation Status VS Marks Achieved\", fontsize = 15, pad = 21)\n",
    "ax3.set_xlabel(\"Test Preperation\", fontsize = 13)\n",
    "ax3.set_ylabel(\"Total Marks\", fontsize = 12);\n",
    "plt.tick_params(axis='both', which='major', labelsize=12)\n",
    "\n",
    "fig.suptitle(\"Various Vizualizations for the Data we have.\", fontsize= 16, fontweight = \"bold\", y = 0.95);\n",
    "plt.subplots_adjust(wspace= 0.3, hspace= 0.5)"
   ]
  },
  {
   "cell_type": "markdown",
   "id": "f8177a2c",
   "metadata": {},
   "source": [
    "> From the above analysis and charts we can state the following about the DataSet :\n",
    "> * **1)** The Count of the Males and Females are as follows :\n",
    ">> * `Males` : **12** & `Females` : **16**  \n",
    "\n",
    "> * **2)** There are **7** students who have `completed the Test Preperation` and **21** Students who `Haven't taken the Test preperation`.\n",
    "\n",
    "> * **3)** Half of the students have scored 33 Marks or above in the test.\n",
    "\n",
    "> * **4)** We can see that the Marks obtained by the students who have done the test preperation `are better` than the scores obtained by people who havent done preperation. "
   ]
  },
  {
   "cell_type": "markdown",
   "id": "f813fb48",
   "metadata": {},
   "source": [
    "#### "
   ]
  },
  {
   "cell_type": "markdown",
   "id": "a7b62eee",
   "metadata": {},
   "source": [
    "# Check whether female and male students scored the same marks."
   ]
  },
  {
   "cell_type": "code",
   "execution_count": 11,
   "id": "259e8f2e",
   "metadata": {},
   "outputs": [],
   "source": [
    "# Prepping the data needed for testing\n",
    "\n",
    "df_males = df[df[\"Gender\"] == \"male\"][[\"Total Marks\"]]"
   ]
  },
  {
   "cell_type": "code",
   "execution_count": 12,
   "id": "6f6f212f",
   "metadata": {},
   "outputs": [],
   "source": [
    "df_females = df[df[\"Gender\"] == \"female\"][[\"Total Marks\"]]"
   ]
  },
  {
   "cell_type": "markdown",
   "id": "8ba79286",
   "metadata": {},
   "source": [
    "Stating the `Null` & `Alternate` Hypothesis for this study"
   ]
  },
  {
   "cell_type": "markdown",
   "id": "b226b3ad",
   "metadata": {},
   "source": [
    "> **Null Hypothesis, H0**: The Male and Female students have scored the same marks\n",
    "\n",
    "> **Alternate Hypothesis, Ha**: The marks scored by Males & Females are not equal."
   ]
  },
  {
   "cell_type": "code",
   "execution_count": 13,
   "id": "7014266f",
   "metadata": {},
   "outputs": [
    {
     "name": "stdout",
     "output_type": "stream",
     "text": [
      "The calulated T score & p-value are : \n",
      "  \n",
      "t-score = 0.694 , \n",
      "p-value = 0.494 \n",
      "\n",
      "Unable to Reject Null Hypothesis\n"
     ]
    }
   ],
   "source": [
    "t_score, p_value = ttest_ind(df_females,df_males)\n",
    "print(\"The calulated T score & p-value are : \\n  \\nt-score = %0.3f , \\np-value = %0.3f \\n\" % (t_score, p_value))\n",
    "\n",
    "alpha  = 0.05\n",
    "\n",
    "if p_value > alpha:\n",
    "    print(\"Unable to Reject Null Hypothesis\")\n",
    "elif p_value < alpha:\n",
    "    print(\"We Reject the Null Hypothesis\")"
   ]
  },
  {
   "cell_type": "markdown",
   "id": "b22a03f0",
   "metadata": {},
   "source": [
    "> **From the above we can conclude that:**\n",
    "> * We're `unable to REJECT` the Null Hypothesis.\n",
    "> * The Boys and girls have scored similar marks"
   ]
  },
  {
   "cell_type": "markdown",
   "id": "341424c4",
   "metadata": {},
   "source": [
    "# Checking whether test preparation helped the students"
   ]
  },
  {
   "cell_type": "markdown",
   "id": "3de1c73f",
   "metadata": {},
   "source": [
    "Stating the `Null` & `Alternate` Hypothesis"
   ]
  },
  {
   "cell_type": "markdown",
   "id": "289cfd8b",
   "metadata": {},
   "source": [
    "> **Null Hypothesis, H0**: The test preperation didn't help the students.\n",
    "\n",
    "> **Alternate Hypothesis, Ha**: The Test preparation has helped the students in increasing their marks."
   ]
  },
  {
   "cell_type": "code",
   "execution_count": 14,
   "id": "791ab5e5",
   "metadata": {},
   "outputs": [],
   "source": [
    "df_prepped = df[df[\"Test preparation\"] == \"completed\"][[\"Total Marks\"]]"
   ]
  },
  {
   "cell_type": "code",
   "execution_count": 15,
   "id": "0231fb19",
   "metadata": {},
   "outputs": [],
   "source": [
    "df_not_prepped = df[df[\"Test preparation\"] == \"none\"][[\"Total Marks\"]]"
   ]
  },
  {
   "cell_type": "code",
   "execution_count": 16,
   "id": "5f8ad2c2",
   "metadata": {},
   "outputs": [
    {
     "name": "stdout",
     "output_type": "stream",
     "text": [
      "The calulated T score & p-value are : \n",
      "  \n",
      "t-score = 3.614 , \n",
      "p-value = 0.001 \n",
      "\n",
      "We Reject the Null Hypothesis\n"
     ]
    }
   ],
   "source": [
    "t_score, p_val = ttest_ind(df_prepped,df_not_prepped, alternative=\"greater\")\n",
    "print(\"The calulated T score & p-value are : \\n  \\nt-score = %0.3f , \\np-value = %0.3f \\n\" % (t_score, p_val))\n",
    "\n",
    "alpha = 0.05 # The degree of Freedom is n-1, i.e. 28-1 = 27\n",
    "\n",
    "if p_val < alpha:\n",
    "    print(\"We Reject the Null Hypothesis\")\n",
    "elif p_val > alpha:\n",
    "    print(\"We are unable to Reject the Null Hypothesis\")"
   ]
  },
  {
   "cell_type": "markdown",
   "id": "993e62e6",
   "metadata": {},
   "source": [
    "**Based on the above findings we can say that:**\n",
    "\n",
    "> * For this study, `we'll reject` the Null Hypothesis. i.e. reject the claim that the test preperation hasn't helped the students.\n",
    "\n",
    "> * The test preperation has helped the students increase their score. "
   ]
  },
  {
   "cell_type": "code",
   "execution_count": null,
   "id": "0cfe68fa",
   "metadata": {},
   "outputs": [],
   "source": []
  }
 ],
 "metadata": {
  "kernelspec": {
   "display_name": "Python 3",
   "language": "python",
   "name": "python3"
  },
  "language_info": {
   "codemirror_mode": {
    "name": "ipython",
    "version": 3
   },
   "file_extension": ".py",
   "mimetype": "text/x-python",
   "name": "python",
   "nbconvert_exporter": "python",
   "pygments_lexer": "ipython3",
   "version": "3.8.8"
  }
 },
 "nbformat": 4,
 "nbformat_minor": 5
}
